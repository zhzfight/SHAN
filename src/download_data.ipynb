{
 "cells": [
  {
   "cell_type": "markdown",
   "source": [
    "dataset存放在Google drive上，可以用gdown下载下来，但是需要翻墙，数据有4个多g，加上Google drive下载大文件时需要先在云端压缩文件，导致速度感人，如果不能翻墙，tmall数据集可以在阿里天池下载，gowalla数据集可以在kaggle下载"
   ],
   "metadata": {
    "collapsed": false,
    "pycharm": {
     "name": "#%% md\n"
    }
   }
  },
  {
   "cell_type": "code",
   "execution_count": 5,
   "metadata": {
    "collapsed": true,
    "pycharm": {
     "name": "#%%\n"
    }
   },
   "outputs": [
    {
     "name": "stdout",
     "output_type": "stream",
     "text": [
      "Retrieving folder list\r\n",
      "Retrieving folder 1dzCX8RUu4_kqI7x__iW3NniyOE-03p34 gowalla\r\n",
      "Processing file 1EtDxBaT1JARyhgMib1C9ZlWEZBePIYU7 Gowalla_totalCheckins.txt\r\n",
      "Retrieving folder 1Mc6UujYbWANbpTZiccyxyGLXlPBQDfu1 tmall\r\n",
      "Retrieving folder 1GCrb2DYtDsm4i_YQxcSx27-klAflnaKn data_format1\r\n",
      "Processing file 1kU7Oh2BTCulSyYFcCd0o19-tO893mBeQ test_format1.csv\r\n",
      "Processing file 1af6ZiBm0R05I3J5nArH3n1rydQxpZXyR train_format1.csv\r\n",
      "Processing file 1vCc78SfJ7at-C_r6CCjT2unYc40Sf2Rp user_info_format1.csv\r\n",
      "Processing file 1tAtfZmr5s5GeqlaGLW-wNIStfI00VsRY user_log_format1.csv\r\n",
      "Retrieving folder 1wBBkpr16UouBdFW_cGJC4HFtBzE087Zm data_format2\r\n",
      "Processing file 1njuKA5ivLr7plYVONfL4vXhu_IhZtjsD test_format2.csv\r\n",
      "Processing file 163T6D3xCjK1ntimxVOXRDuHr1PjYkIJ6 train_format2.csv\r\n",
      "Processing file 1IsiF61BIXOCx5EsTqNpM8_bctpKoKx5Z sample_submission.csv\r\n",
      "Retrieving folder list completed\r\n",
      "Building directory structure\r\n",
      "Building directory structure completed\r\n",
      "Downloading...\r\n",
      "From: https://drive.google.com/uc?id=1EtDxBaT1JARyhgMib1C9ZlWEZBePIYU7\r\n",
      "To: /Users/bytedance/SHAN/src/preprocessing/data/gowalla/Gowalla_totalCheckins.txt\r\n",
      "100%|████████████████████████████████████████| 395M/395M [01:56<00:00, 3.40MB/s]\r\n",
      "Downloading...\r\n",
      "From: https://drive.google.com/uc?id=1kU7Oh2BTCulSyYFcCd0o19-tO893mBeQ\r\n",
      "To: /Users/bytedance/SHAN/src/preprocessing/data/tmall/data_format1/test_format1.csv\r\n",
      "100%|██████████████████████████████████████| 3.28M/3.28M [00:00<00:00, 3.31MB/s]\r\n",
      "Downloading...\r\n",
      "From: https://drive.google.com/uc?id=1af6ZiBm0R05I3J5nArH3n1rydQxpZXyR\r\n",
      "To: /Users/bytedance/SHAN/src/preprocessing/data/tmall/data_format1/train_format1.csv\r\n",
      "100%|██████████████████████████████████████| 3.53M/3.53M [00:00<00:00, 3.77MB/s]\r\n",
      "Downloading...\r\n",
      "From: https://drive.google.com/uc?id=1vCc78SfJ7at-C_r6CCjT2unYc40Sf2Rp\r\n",
      "To: /Users/bytedance/SHAN/src/preprocessing/data/tmall/data_format1/user_info_format1.csv\r\n",
      "100%|██████████████████████████████████████| 4.55M/4.55M [00:01<00:00, 3.38MB/s]\r\n",
      "Downloading...\r\n",
      "From: https://drive.google.com/uc?id=1tAtfZmr5s5GeqlaGLW-wNIStfI00VsRY\r\n",
      "To: /Users/bytedance/SHAN/src/preprocessing/data/tmall/data_format1/user_log_format1.csv\r\n",
      "100%|██████████████████████████████████████| 1.91G/1.91G [09:29<00:00, 3.36MB/s]\r\n",
      "Downloading...\r\n",
      "From: https://drive.google.com/uc?id=1njuKA5ivLr7plYVONfL4vXhu_IhZtjsD\r\n",
      "To: /Users/bytedance/SHAN/src/preprocessing/data/tmall/data_format2/test_format2.csv\r\n",
      "100%|████████████████████████████████████████| 769M/769M [03:46<00:00, 3.40MB/s]\r\n",
      "Downloading...\r\n",
      "From: https://drive.google.com/uc?id=163T6D3xCjK1ntimxVOXRDuHr1PjYkIJ6\r\n",
      "To: /Users/bytedance/SHAN/src/preprocessing/data/tmall/data_format2/train_format2.csv\r\n",
      "100%|████████████████████████████████████████| 767M/767M [03:46<00:00, 3.40MB/s]\r\n",
      "Downloading...\r\n",
      "From: https://drive.google.com/uc?id=1IsiF61BIXOCx5EsTqNpM8_bctpKoKx5Z\r\n",
      "To: /Users/bytedance/SHAN/src/preprocessing/data/tmall/sample_submission.csv\r\n",
      "100%|██████████████████████████████████████| 4.06M/4.06M [00:01<00:00, 3.48MB/s]\r\n",
      "Download completed\r\n"
     ]
    }
   ],
   "source": [
    "!gdown --folder https://drive.google.com/drive/folders/1jJaipJib1f5toqoHoYMYN6WcMkE8_ugD"
   ]
  },
  {
   "cell_type": "markdown",
   "source": [
    "这个project中用到的两个数据集简介\n",
    "Tmall dataset accumulates user behavior logs in the largest on- line shopping site in China (i.e, Tmall.com), while Gowalla dataset records the time and point-of-interest information of check-ins from users in the location-based social networking site, Gowalla"
   ],
   "metadata": {
    "collapsed": false,
    "pycharm": {
     "name": "#%% md\n"
    }
   }
  }
 ],
 "metadata": {
  "kernelspec": {
   "display_name": "Python 3",
   "language": "python",
   "name": "python3"
  },
  "language_info": {
   "codemirror_mode": {
    "name": "ipython",
    "version": 2
   },
   "file_extension": ".py",
   "mimetype": "text/x-python",
   "name": "python",
   "nbconvert_exporter": "python",
   "pygments_lexer": "ipython2",
   "version": "2.7.6"
  }
 },
 "nbformat": 4,
 "nbformat_minor": 0
}