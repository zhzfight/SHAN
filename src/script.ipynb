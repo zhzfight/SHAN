{
 "cells": [
  {
   "cell_type": "code",
   "execution_count": 2,
   "metadata": {
    "collapsed": true,
    "pycharm": {
     "name": "#%%\n"
    }
   },
   "outputs": [],
   "source": [
    "import torch\n",
    "from torch import nn"
   ]
  },
  {
   "cell_type": "code",
   "execution_count": 8,
   "outputs": [
    {
     "ename": "RuntimeError",
     "evalue": "requested resize to (2, 1) ((2, 1) elements in total), but the given tensor has a size of 2 (2 elements). autograd's resize can only change the shape of a given tensor, while preserving the number of elements. ",
     "output_type": "error",
     "traceback": [
      "\u001B[0;31m---------------------------------------------------------------------------\u001B[0m",
      "\u001B[0;31mRuntimeError\u001B[0m                              Traceback (most recent call last)",
      "Input \u001B[0;32mIn [8]\u001B[0m, in \u001B[0;36m<cell line: 2>\u001B[0;34m()\u001B[0m\n\u001B[1;32m      1\u001B[0m m \u001B[38;5;241m=\u001B[39m nn\u001B[38;5;241m.\u001B[39mReLU()\n\u001B[0;32m----> 2\u001B[0m \u001B[38;5;28minput\u001B[39m \u001B[38;5;241m=\u001B[39m \u001B[43mtorch\u001B[49m\u001B[38;5;241;43m.\u001B[39;49m\u001B[43mrandn\u001B[49m\u001B[43m(\u001B[49m\u001B[38;5;241;43m2\u001B[39;49m\u001B[43m)\u001B[49m\u001B[38;5;241;43m.\u001B[39;49m\u001B[43mresize\u001B[49m\u001B[43m(\u001B[49m\u001B[43m(\u001B[49m\u001B[38;5;241;43m2\u001B[39;49m\u001B[43m,\u001B[49m\u001B[38;5;241;43m1\u001B[39;49m\u001B[43m)\u001B[49m\u001B[43m)\u001B[49m\n\u001B[1;32m      3\u001B[0m m(\u001B[38;5;28minput\u001B[39m)\n",
      "File \u001B[0;32m~/SHAN/venv/lib/python3.8/site-packages/torch/_tensor.py:551\u001B[0m, in \u001B[0;36mTensor.resize\u001B[0;34m(self, *sizes)\u001B[0m\n\u001B[1;32m    549\u001B[0m warnings\u001B[38;5;241m.\u001B[39mwarn(\u001B[38;5;124m\"\u001B[39m\u001B[38;5;124mnon-inplace resize is deprecated\u001B[39m\u001B[38;5;124m\"\u001B[39m)\n\u001B[1;32m    550\u001B[0m \u001B[38;5;28;01mfrom\u001B[39;00m \u001B[38;5;21;01mtorch\u001B[39;00m\u001B[38;5;21;01m.\u001B[39;00m\u001B[38;5;21;01mautograd\u001B[39;00m\u001B[38;5;21;01m.\u001B[39;00m\u001B[38;5;21;01m_functions\u001B[39;00m \u001B[38;5;28;01mimport\u001B[39;00m Resize\n\u001B[0;32m--> 551\u001B[0m \u001B[38;5;28;01mreturn\u001B[39;00m \u001B[43mResize\u001B[49m\u001B[38;5;241;43m.\u001B[39;49m\u001B[43mapply\u001B[49m\u001B[43m(\u001B[49m\u001B[38;5;28;43mself\u001B[39;49m\u001B[43m,\u001B[49m\u001B[43m \u001B[49m\u001B[43msizes\u001B[49m\u001B[43m)\u001B[49m\n",
      "File \u001B[0;32m~/SHAN/venv/lib/python3.8/site-packages/torch/autograd/_functions/tensor.py:32\u001B[0m, in \u001B[0;36mResize.forward\u001B[0;34m(ctx, tensor, sizes)\u001B[0m\n\u001B[1;32m     30\u001B[0m ctx\u001B[38;5;241m.\u001B[39mnumel \u001B[38;5;241m=\u001B[39m reduce(\u001B[38;5;28;01mlambda\u001B[39;00m x, y: x \u001B[38;5;241m*\u001B[39m y, sizes, \u001B[38;5;241m1\u001B[39m)\n\u001B[1;32m     31\u001B[0m \u001B[38;5;28;01mif\u001B[39;00m tensor\u001B[38;5;241m.\u001B[39mnumel() \u001B[38;5;241m!=\u001B[39m ctx\u001B[38;5;241m.\u001B[39mnumel:\n\u001B[0;32m---> 32\u001B[0m     \u001B[38;5;28;01mraise\u001B[39;00m \u001B[38;5;167;01mRuntimeError\u001B[39;00m((\u001B[38;5;124m\"\u001B[39m\u001B[38;5;124mrequested resize to \u001B[39m\u001B[38;5;132;01m{}\u001B[39;00m\u001B[38;5;124m (\u001B[39m\u001B[38;5;132;01m{}\u001B[39;00m\u001B[38;5;124m elements in total), \u001B[39m\u001B[38;5;124m\"\u001B[39m\n\u001B[1;32m     33\u001B[0m                         \u001B[38;5;124m\"\u001B[39m\u001B[38;5;124mbut the given tensor has a size of \u001B[39m\u001B[38;5;132;01m{}\u001B[39;00m\u001B[38;5;124m (\u001B[39m\u001B[38;5;132;01m{}\u001B[39;00m\u001B[38;5;124m elements). \u001B[39m\u001B[38;5;124m\"\u001B[39m\n\u001B[1;32m     34\u001B[0m                         \u001B[38;5;124m\"\u001B[39m\u001B[38;5;124mautograd\u001B[39m\u001B[38;5;124m'\u001B[39m\u001B[38;5;124ms resize can only change the shape of a given \u001B[39m\u001B[38;5;124m\"\u001B[39m\n\u001B[1;32m     35\u001B[0m                         \u001B[38;5;124m\"\u001B[39m\u001B[38;5;124mtensor, while preserving the number of elements. \u001B[39m\u001B[38;5;124m\"\u001B[39m)\u001B[38;5;241m.\u001B[39mformat(\n\u001B[1;32m     36\u001B[0m         \u001B[38;5;124m'\u001B[39m\u001B[38;5;124mx\u001B[39m\u001B[38;5;124m'\u001B[39m\u001B[38;5;241m.\u001B[39mjoin(\u001B[38;5;28mmap\u001B[39m(\u001B[38;5;28mstr\u001B[39m, sizes)), ctx\u001B[38;5;241m.\u001B[39mnumel,\n\u001B[1;32m     37\u001B[0m         \u001B[38;5;124m'\u001B[39m\u001B[38;5;124mx\u001B[39m\u001B[38;5;124m'\u001B[39m\u001B[38;5;241m.\u001B[39mjoin(\u001B[38;5;28mmap\u001B[39m(\u001B[38;5;28mstr\u001B[39m, tensor\u001B[38;5;241m.\u001B[39msize())), tensor\u001B[38;5;241m.\u001B[39mnumel()))\n\u001B[1;32m     38\u001B[0m ctx\u001B[38;5;241m.\u001B[39minput_sizes \u001B[38;5;241m=\u001B[39m tensor\u001B[38;5;241m.\u001B[39msize()\n\u001B[1;32m     39\u001B[0m \u001B[38;5;28;01mif\u001B[39;00m tensor\u001B[38;5;241m.\u001B[39mis_quantized:\n",
      "\u001B[0;31mRuntimeError\u001B[0m: requested resize to (2, 1) ((2, 1) elements in total), but the given tensor has a size of 2 (2 elements). autograd's resize can only change the shape of a given tensor, while preserving the number of elements. "
     ]
    }
   ],
   "source": [
    "m = nn.ReLU()\n",
    "input = torch.randn(2).resize((2,1))\n",
    "m(input)\n"
   ],
   "metadata": {
    "collapsed": false,
    "pycharm": {
     "name": "#%%\n"
    }
   }
  }
 ],
 "metadata": {
  "kernelspec": {
   "display_name": "Python 3",
   "language": "python",
   "name": "python3"
  },
  "language_info": {
   "codemirror_mode": {
    "name": "ipython",
    "version": 2
   },
   "file_extension": ".py",
   "mimetype": "text/x-python",
   "name": "python",
   "nbconvert_exporter": "python",
   "pygments_lexer": "ipython2",
   "version": "2.7.6"
  }
 },
 "nbformat": 4,
 "nbformat_minor": 0
}